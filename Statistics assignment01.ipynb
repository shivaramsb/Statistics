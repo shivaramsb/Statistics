{
 "cells": [
  {
   "cell_type": "code",
   "execution_count": 1,
   "id": "80a872c3-9a7c-4454-82aa-6708b94adb0a",
   "metadata": {},
   "outputs": [
    {
     "name": "stdout",
     "output_type": "stream",
     "text": [
      "3.0\n"
     ]
    }
   ],
   "source": [
    "#1. Question: How do you calculate the mean of a list of numbers in Python?#\n",
    "\n",
    "import numpy as np\n",
    "\n",
    "numbers = [1, 2, 3, 4, 5]\n",
    "mean = np.mean(numbers)\n",
    "print(mean)"
   ]
  },
  {
   "cell_type": "code",
   "execution_count": 3,
   "id": "2494ac0b-5cf8-4f42-b2ee-45ea34cd11f5",
   "metadata": {},
   "outputs": [
    {
     "name": "stdout",
     "output_type": "stream",
     "text": [
      "5.0\n"
     ]
    }
   ],
   "source": [
    "#2. Question: How can you calculate the median of a dataset using Python?#\n",
    "\n",
    "import numpy as np\n",
    "\n",
    "data = [1, 3, 5, 7, 9]\n",
    "median = np.median(data)\n",
    "print(median)\n"
   ]
  },
  {
   "cell_type": "code",
   "execution_count": 5,
   "id": "ad299755-76af-4c31-8cd8-561fc2c00540",
   "metadata": {},
   "outputs": [
    {
     "name": "stdout",
     "output_type": "stream",
     "text": [
      "2\n"
     ]
    }
   ],
   "source": [
    "#3. Question: Write a Python function to calculate the mode of a list of numbers.#\n",
    "\n",
    "from scipy import stats\n",
    "\n",
    "def calculate_mode(data):\n",
    "    mode_result = stats.mode(data, keepdims=False)\n",
    "    return mode_result.mode\n",
    "\n",
    "numbers = [1, 2, 2, 3, 4]\n",
    "mode = calculate_mode(numbers)\n",
    "print(mode)\n"
   ]
  },
  {
   "cell_type": "code",
   "execution_count": 6,
   "id": "212c0a7a-1826-4b1d-9820-b2d565d5e7e0",
   "metadata": {},
   "outputs": [
    {
     "name": "stdout",
     "output_type": "stream",
     "text": [
      "1.4142135623730951\n"
     ]
    }
   ],
   "source": [
    "#4. Question: How do you calculate the standard deviation of a dataset in Python?#\n",
    "\n",
    "import numpy as np\n",
    "\n",
    "data = [1, 2, 3, 4, 5]\n",
    "std_dev = np.std(data)\n",
    "print(std_dev)\n"
   ]
  },
  {
   "cell_type": "code",
   "execution_count": 8,
   "id": "4fdee5e4-0301-4b54-b999-29be21e8112c",
   "metadata": {},
   "outputs": [
    {
     "data": {
      "image/png": "[encoded data removed]",
      "text/plain": [
       "<Figure size 640x480 with 1 Axes>"
      ]
     },
     "metadata": {},
     "output_type": "display_data"
    }
   ],
   "source": [
    "#5. Question: How can you create a histogram to visualize the distribution of data in Python?#\n",
    "\n",
    "import matplotlib.pyplot as plt\n",
    "\n",
    "data = [1, 2, 2, 3, 3, 3, 4, 4, 4, 4]\n",
    "plt.hist(data, bins=5, edgecolor='black')\n",
    "plt.xlabel('Value')\n",
    "plt.ylabel('Frequency')\n",
    "plt.title('Histogram')\n",
    "plt.show()\n"
   ]
  },
  {
   "cell_type": "code",
   "execution_count": 9,
   "id": "2ca929cb-6a2e-4087-ae0b-87f4d002b996",
   "metadata": {},
   "outputs": [
    {
     "name": "stdout",
     "output_type": "stream",
     "text": [
      "0.9999999999999999\n"
     ]
    }
   ],
   "source": [
    "#6. Question: Write a Python script to calculate the correlation coefficient between two variables.#\n",
    "\n",
    "import numpy as np\n",
    "\n",
    "x = [1, 2, 3, 4, 5]\n",
    "y = [2, 4, 6, 8, 10]\n",
    "correlation_coefficient = np.corrcoef(x, y)[0, 1]\n",
    "print(correlation_coefficient)\n"
   ]
  },
  {
   "cell_type": "code",
   "execution_count": 10,
   "id": "1c5bc1f7-5cea-4e20-921b-4493707702e4",
   "metadata": {},
   "outputs": [
    {
     "name": "stdout",
     "output_type": "stream",
     "text": [
      "Slope: 2.0000000000000004, Intercept: -1.7763568394002505e-15\n"
     ]
    }
   ],
   "source": [
    "#7. Question: How can you perform a linear regression analysis using Python?#\n",
    "\n",
    "import numpy as np\n",
    "from sklearn.linear_model import LinearRegression\n",
    "\n",
    "x = np.array([1, 2, 3, 4, 5]).reshape((-1, 1))\n",
    "y = np.array([2, 4, 6, 8, 10])\n",
    "\n",
    "model = LinearRegression().fit(x, y)\n",
    "slope = model.coef_[0]\n",
    "intercept = model.intercept_\n",
    "print(f'Slope: {slope}, Intercept: {intercept}')\n"
   ]
  },
  {
   "cell_type": "code",
   "execution_count": 11,
   "id": "48a84edd-af2b-44e7-ace6-e1632ece7a72",
   "metadata": {},
   "outputs": [
    {
     "name": "stdout",
     "output_type": "stream",
     "text": [
      "(1.036756838522439, 4.9632431614775605)\n"
     ]
    }
   ],
   "source": [
    "#8. Question: How do you calculate the confidence interval for a mean in Python?#\n",
    "\n",
    "import numpy as np\n",
    "import scipy.stats as st\n",
    "\n",
    "data = [1, 2, 3, 4, 5]\n",
    "confidence_level = 0.95\n",
    "mean = np.mean(data)\n",
    "standard_error = st.sem(data)\n",
    "interval = st.t.interval(confidence_level, len(data)-1, mean, standard_error)\n",
    "print(interval)\n"
   ]
  },
  {
   "cell_type": "code",
   "execution_count": 12,
   "id": "b57d0c23-2e6d-413d-9f88-b846cc7ac872",
   "metadata": {},
   "outputs": [
    {
     "name": "stdout",
     "output_type": "stream",
     "text": [
      "T-statistic: -1.0, P-value: 0.34659350708733416\n"
     ]
    }
   ],
   "source": [
    "#9. Question: Write a Python function to perform a t-test to compare the means of two samples.#\n",
    "\n",
    "import scipy.stats as st\n",
    "\n",
    "def perform_t_test(sample1, sample2):\n",
    "    t_stat, p_value = st.ttest_ind(sample1, sample2)\n",
    "    return t_stat, p_value\n",
    "\n",
    "sample1 = [1, 2, 3, 4, 5]\n",
    "sample2 = [2, 3, 4, 5, 6]\n",
    "t_stat, p_value = perform_t_test(sample1, sample2)\n",
    "print(f'T-statistic: {t_stat}, P-value: {p_value}')\n"
   ]
  },
  {
   "cell_type": "code",
   "execution_count": 13,
   "id": "f23fbe88-d093-4a11-84ea-83cbf482eb03",
   "metadata": {},
   "outputs": [
    {
     "data": {
      "image/png": "[encoded data removed]",
      "text/plain": [
       "<Figure size 640x480 with 1 Axes>"
      ]
     },
     "metadata": {},
     "output_type": "display_data"
    }
   ],
   "source": [
    "#10. Question: How can you generate a box plot in Python to visualize the distribution of data?#\n",
    "\n",
    "import matplotlib.pyplot as plt\n",
    "\n",
    "data = [1, 2, 3, 4, 5, 6, 7, 8, 9, 10]\n",
    "plt.boxplot(data)\n",
    "plt.title('Box Plot')\n",
    "plt.ylabel('Values')\n",
    "plt.show()\n"
   ]
  },
  {
   "cell_type": "code",
   "execution_count": null,
   "id": "27f1ef1d-62f1-445c-b37d-18f322f8cc69",
   "metadata": {},
   "outputs": [],
   "source": []
  }
 ],
 "metadata": {
  "kernelspec": {
   "display_name": "Python 3 (ipykernel)",
   "language": "python",
   "name": "python3"
  },
  "language_info": {
   "codemirror_mode": {
    "name": "ipython",
    "version": 3
   },
   "file_extension": ".py",
   "mimetype": "text/x-python",
   "name": "python",
   "nbconvert_exporter": "python",
   "pygments_lexer": "ipython3",
   "version": "3.11.7"
  }
 },
 "nbformat": 4,
 "nbformat_minor": 5
}
