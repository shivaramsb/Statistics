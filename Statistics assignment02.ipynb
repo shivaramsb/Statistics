{
 "cells": [
  {
   "cell_type": "markdown",
   "id": "079788db-a386-4540-967b-e62774d6396d",
   "metadata": {},
   "source": [
    "**1. Performing and Interpreting ANOVA Test\n",
    "Question: Given the following groups of data: group1 = [20, 21, 19, 18, 20], \n",
    "group2 = [22, 23, 21, 24, 23], and group3 = [17, 18, 19, 16, 17], perform a one-way ANOVA test.\n",
    "What does the result indicate about the differences between these groups?**"
   ]
  },
  {
   "cell_type": "code",
   "execution_count": 1,
   "id": "701fe862-6018-4da4-a8d9-695daca690bc",
   "metadata": {},
   "outputs": [
    {
     "name": "stdout",
     "output_type": "stream",
     "text": [
      "F-statistic: 26.205128205128165, P-value: 4.1817427059370726e-05\n"
     ]
    }
   ],
   "source": [
    "from scipy import stats\n",
    "\n",
    "group1 = [20, 21, 19, 18, 20]\n",
    "group2 = [22, 23, 21, 24, 23]\n",
    "group3 = [17, 18, 19, 16, 17]\n",
    "\n",
    "f_stat, p_value = stats.f_oneway(group1, group2, group3)\n",
    "print(f'F-statistic: {f_stat}, P-value: {p_value}')\n"
   ]
  },
  {
   "cell_type": "markdown",
   "id": "cedbe8e9-76b9-403c-9854-a7985f7859e2",
   "metadata": {},
   "source": [
    "**2.Applying Principal Component Analysis (PCA)\n",
    "Question: Given a dataset X with 5 samples and 3 features:\n",
    "X = [[2.5, 2.4, 3.5], [0.5, 0.7, 1.2], [2.2, 2.9, 3.3], [1.9, 2.2, 2.7], [3.1, 3.0, 4.1]]\n",
    "**"
   ]
  },
  {
   "cell_type": "code",
   "execution_count": 5,
   "id": "4ecc529f-eb5f-4d78-b545-86097d32b28f",
   "metadata": {},
   "outputs": [
    {
     "name": "stdout",
     "output_type": "stream",
     "text": [
      "[0.97831031 0.02072823]\n"
     ]
    }
   ],
   "source": [
    "from sklearn.decomposition import PCA\n",
    "import numpy as np\n",
    "\n",
    "X = np.array([[2.5, 2.4, 3.5], [0.5, 0.7, 1.2], [2.2, 2.9, 3.3], [1.9, 2.2, 2.7], [3.1, 3.0, 4.1]])\n",
    "pca = PCA(n_components=2)\n",
    "X_pca = pca.fit_transform(X)\n",
    "print(pca.explained_variance_ratio_)\n"
   ]
  },
  {
   "cell_type": "markdown",
   "id": "e79ccb3e-2c02-4ae3-a60d-ec699cdb024a",
   "metadata": {},
   "source": [
    "**3.Performing Logistic Regression and Evaluating Accuracy\n",
    "Question: Use logistic regression to classify the following data, where X is the feature matrix and y is the target:\n",
    "X = [[0, 0], [1, 1], [1, 0], [0, 1]]\n",
    "y = [0, 1, 1, 0]**"
   ]
  },
  {
   "cell_type": "code",
   "execution_count": 6,
   "id": "01f8c4f0-a098-4eac-8d7b-d5d3d09837af",
   "metadata": {},
   "outputs": [
    {
     "name": "stdout",
     "output_type": "stream",
     "text": [
      "Accuracy: 1.0\n"
     ]
    }
   ],
   "source": [
    "from sklearn.linear_model import LogisticRegression\n",
    "from sklearn.metrics import accuracy_score\n",
    "\n",
    "X = [[0, 0], [1, 1], [1, 0], [0, 1]]\n",
    "y = [0, 1, 1, 0]\n",
    "\n",
    "model = LogisticRegression().fit(X, y)\n",
    "predictions = model.predict(X)\n",
    "accuracy = accuracy_score(y, predictions)\n",
    "print(f'Accuracy: {accuracy}')\n"
   ]
  },
  {
   "cell_type": "markdown",
   "id": "dc1bb13d-3b01-4e2b-afa3-717df02e7938",
   "metadata": {},
   "source": [
    "**4.Calculating and Interpreting the R-squared Value in Linear Regression\n",
    "Question: Given the datasets x = [1, 2, 3, 4, 5] and y = [2, 3, 5, 7, 11], \n",
    "perform a linear regression analysis and calculate the R-squared value. What does R-squared tell you about the model?**"
   ]
  },
  {
   "cell_type": "code",
   "execution_count": 7,
   "id": "c44a1d81-91ab-4a8f-997d-5d5ea265355e",
   "metadata": {},
   "outputs": [
    {
     "name": "stdout",
     "output_type": "stream",
     "text": [
      "R-squared: 0.9453125\n"
     ]
    }
   ],
   "source": [
    "import numpy as np\n",
    "from sklearn.linear_model import LinearRegression\n",
    "\n",
    "x = np.array([1, 2, 3, 4, 5]).reshape(-1, 1)\n",
    "y = np.array([2, 3, 5, 7, 11])\n",
    "\n",
    "model = LinearRegression().fit(x, y)\n",
    "r_squared = model.score(x, y)\n",
    "print(f'R-squared: {r_squared}')\n"
   ]
  },
  {
   "cell_type": "markdown",
   "id": "f9e2fd0b-2910-4dc5-9295-10b017edf799",
   "metadata": {},
   "source": [
    "**5. Creating a Heatmap to Visualize Correlation Matrix\n",
    "Question: Given the following dataset as a DataFrame df:\n",
    "import pandas as pd\n",
    "data = {'A': [1, 2, 3, 4, 5], 'B': [2, 3, 4, 5, 6], 'C': [5, 4, 3, 2, 1]}\n",
    "df = pd.DataFrame(data)**"
   ]
  },
  {
   "cell_type": "code",
   "execution_count": 9,
   "id": "4681c5f4-87e1-4977-995f-0fbf397010af",
   "metadata": {},
   "outputs": [
    {
     "data": {
      "image/png": "[encoded data removed]",
      "text/plain": [
       "<Figure size 640x480 with 2 Axes>"
      ]
     },
     "metadata": {},
     "output_type": "display_data"
    }
   ],
   "source": [
    "import pandas as pd\n",
    "import seaborn as sns\n",
    "import matplotlib.pyplot as plt\n",
    "\n",
    "# Define the DataFrame\n",
    "data = {\n",
    "    'A': [1, 2, 3, 4, 5],\n",
    "    'B': [5, 4, 3, 2, 1],\n",
    "    'C': [2, 3, 4, 5, 6],\n",
    "    'D': [6, 5, 4, 3, 2]\n",
    "}\n",
    "df = pd.DataFrame(data)\n",
    "\n",
    "# Calculate the correlation matrix\n",
    "corr = df.corr()\n",
    "\n",
    "# Generate and display the heatmap\n",
    "sns.heatmap(corr, annot=True, cmap='coolwarm')\n",
    "plt.title('Correlation Heatmap')\n",
    "plt.show()"
   ]
  },
  {
   "cell_type": "markdown",
   "id": "045b16dc-197a-4cd6-9fdc-37d672dbbb8c",
   "metadata": {},
   "source": [
    "**7. Bootstrapping to Estimate the Mean and its Confidence Interval\n",
    "Question: Given the dataset data = [10, 12, 14, 15, 18, 20, 22, 24], use bootstrapping to estimate the mean and its 95% confidence interval.**"
   ]
  },
  {
   "cell_type": "code",
   "execution_count": 10,
   "id": "848af729-f266-4bfb-b0a2-ca189b248eb9",
   "metadata": {},
   "outputs": [
    {
     "name": "stdout",
     "output_type": "stream",
     "text": [
      "Mean Estimate: 16.914375, 95% Confidence Interval: [13.746875 19.875   ]\n"
     ]
    }
   ],
   "source": [
    "import numpy as np\n",
    "\n",
    "data = [10, 12, 14, 15, 18, 20, 22, 24]\n",
    "bootstrap_samples = [np.mean(np.random.choice(data, size=len(data), replace=True)) for _ in range(1000)]\n",
    "mean_estimate = np.mean(bootstrap_samples)\n",
    "conf_interval = np.percentile(bootstrap_samples, [2.5, 97.5])\n",
    "print(f'Mean Estimate: {mean_estimate}, 95% Confidence Interval: {conf_interval}')"
   ]
  },
  {
   "cell_type": "markdown",
   "id": "0ee94e50-1ffa-404e-b2eb-8bbc842f1ae2",
   "metadata": {},
   "source": [
    "**8. Conducting a Shapiro-Wilk Test for Normality\n",
    "Question: Perform the Shapiro-Wilk test on the dataset [4.5, 6.7, 6.9, 5.0, 5.4, 5.8, 6.2, 6.5]. \n",
    "What does the test result indicate about the data?**"
   ]
  },
  {
   "cell_type": "code",
   "execution_count": 11,
   "id": "78ca5a4a-b6b5-4a03-a789-a6d4a6a00150",
   "metadata": {},
   "outputs": [
    {
     "name": "stdout",
     "output_type": "stream",
     "text": [
      "Statistic: 0.9506076574325562, P-value: 0.717358410358429\n"
     ]
    }
   ],
   "source": [
    "from scipy import stats\n",
    "\n",
    "data = [4.5, 6.7, 6.9, 5.0, 5.4, 5.8, 6.2, 6.5]\n",
    "stat, p = stats.shapiro(data)\n",
    "print(f'Statistic: {stat}, P-value: {p}')"
   ]
  },
  {
   "cell_type": "markdown",
   "id": "ca06bc47-a128-452a-bbd3-3b7f3e8156fd",
   "metadata": {},
   "source": [
    "**9. Using Cross-Validation to Evaluate a Model\n",
    "Question: Apply 5-fold cross-validation to evaluate a decision tree model on the dataset:\n",
    "X = [[1, 2], [2, 3], [3, 4], [4, 5], [5, 6]]\n",
    "y = [0, 0, 1, 1, 1]\n",
    "What does cross-validation tell you about the model’s performance?**"
   ]
  },
  {
   "cell_type": "code",
   "execution_count": 14,
   "id": "2351ce7b-de1b-47c3-ba3d-b75fc5ca63da",
   "metadata": {},
   "outputs": [
    {
     "name": "stdout",
     "output_type": "stream",
     "text": [
      "Stratified cross-validation scores: [0.5 1.  1. ], Mean score: 0.8333333333333334\n"
     ]
    },
    {
     "name": "stderr",
     "output_type": "stream",
     "text": [
      "C:\\Users\\sonal\\anaconda3\\Lib\\site-packages\\sklearn\\model_selection\\_split.py:700: UserWarning: The least populated class in y has only 2 members, which is less than n_splits=3.\n",
      "  warnings.warn(\n"
     ]
    }
   ],
   "source": [
    "from sklearn.model_selection import StratifiedKFold\n",
    "from sklearn.tree import DecisionTreeClassifier\n",
    "from sklearn.model_selection import cross_val_score\n",
    "\n",
    "# Data\n",
    "X = [[1, 2], [2, 3], [3, 4], [4, 5], [5, 6]]\n",
    "y = [0, 0, 1, 1, 1]\n",
    "\n",
    "# Model\n",
    "model = DecisionTreeClassifier()\n",
    "\n",
    "# Stratified cross-validation\n",
    "cv = StratifiedKFold(n_splits=3)\n",
    "scores = cross_val_score(model, X, y, cv=cv)\n",
    "print(f'Stratified cross-validation scores: {scores}, Mean score: {scores.mean()}')\n"
   ]
  }
 ],
 "metadata": {
  "kernelspec": {
   "display_name": "Python 3 (ipykernel)",
   "language": "python",
   "name": "python3"
  },
  "language_info": {
   "codemirror_mode": {
    "name": "ipython",
    "version": 3
   },
   "file_extension": ".py",
   "mimetype": "text/x-python",
   "name": "python",
   "nbconvert_exporter": "python",
   "pygments_lexer": "ipython3",
   "version": "3.11.7"
  }
 },
 "nbformat": 4,
 "nbformat_minor": 5
}
